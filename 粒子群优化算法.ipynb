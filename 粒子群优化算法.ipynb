{
 "cells": [
  {
   "cell_type": "code",
   "execution_count": 5,
   "id": "75007245",
   "metadata": {},
   "outputs": [],
   "source": [
    "import numpy as np\n",
    "import math\n",
    "import time"
   ]
  },
  {
   "cell_type": "code",
   "execution_count": 6,
   "id": "5aeca4a6",
   "metadata": {},
   "outputs": [],
   "source": [
    "# 目标函数值计算\n",
    "def f(C):\n",
    "    return 1/(C[0]**2+C[1]**2+C[2]**2+C[3]**2+1)\n",
    "# 初始化种群 C=[[[x],[v]]]\n",
    "def init(N):\n",
    "    C = np.zeros((N,2,4))\n",
    "    global pBest,gBest\n",
    "    for i in range(N):\n",
    "        for j in range(4):\n",
    "            C[i][0][j] = np.random.uniform(-5,5)\n",
    "            C[i][1][j] = np.random.uniform(-1,1)\n",
    "        pBest[i] = C[i][0]\n",
    "    gBest = pBest[np.argmax(Eval(C,N))].copy()\n",
    "    return C\n",
    "# 判断更新后是否还在问题空间内\n",
    "def whether_out(C):\n",
    "    for i in range(len(C)):\n",
    "        for j in range(4):\n",
    "            if C[i][0][j] < -5 :\n",
    "                C[i][0][j] = -5\n",
    "            elif C[i][0][j] > 5:\n",
    "                C[i][0][j] = 5\n",
    "    return C\n",
    "\n",
    "# 更新粒子的速度和位置\n",
    "def update_C(C,N,w,c1,c2):\n",
    "    '''\n",
    "    C:种群 [[[x],[v]]]\n",
    "    N:种群规模 100\n",
    "    w:惯量权重 初始0.9，递减到0.4\n",
    "    c1、c2:加速系数\n",
    "    pBest: 每个粒子的历史最优位置[[x]]\n",
    "    gBest: 全局最优位置[x]\n",
    "    '''\n",
    "#     print(C.shape)\n",
    "    for i in range(N):\n",
    "        for j in range(4):\n",
    "            rand1 = np.random.random()\n",
    "            rand2 = np.random.random()\n",
    "            C[i][1][j] = w*C[i][1][j]+c1*rand1*(pBest[i][j]-C[i][0][j])+c2*rand2*(gBest[j]-C[i][0][j])\n",
    "            C[i][0][j] +=  C[i][1][j]\n",
    "    C = whether_out(C)\n",
    "    return C\n",
    "        \n",
    "# 评估函数\n",
    "def Eval(C,N):\n",
    "    temp = np.array([])\n",
    "    for i in range(N):\n",
    "        temp = np.append(temp,f(C[i][0]))\n",
    "    return temp\n",
    "# 更新粒子的历史最优和全局最优\n",
    "def update_best(C,N,fitness):\n",
    "    '''\n",
    "    pBest: 每个粒子的历史最优位置,[[x]]\n",
    "    gBest: 全局最优位置,[x]\n",
    "    fitness: 粒子当前适应值,[f(x)]\n",
    "    '''\n",
    "    global pBest,gBest\n",
    "    for i in range(N):\n",
    "        if fitness[i] > f(pBest[i]):\n",
    "            pBest[i] = C[i][0]\n",
    "        if fitness[i] > f(gBest):\n",
    "            gBest = C[i][0].copy()\n",
    "# w线性递减\n",
    "def w_degression(w,N):\n",
    "    w -= 0.5/N\n",
    "    return w"
   ]
  },
  {
   "cell_type": "code",
   "execution_count": 7,
   "id": "974615e3",
   "metadata": {},
   "outputs": [],
   "source": [
    "def PSO(length,N,w,c1,c2):\n",
    "    global pBest,gBest\n",
    "    C = init(N)\n",
    "#     print('gBest:',gBest)\n",
    "    for i in range(length):\n",
    "        C = update_C(C,N,w,c1,c2)\n",
    "        fitness = Eval(C,N)\n",
    "        update_best(C,N,fitness)\n",
    "        w=w_degression(w,N)\n",
    "        if f(gBest)==1.0:\n",
    "            break\n",
    "    return [f(gBest),gBest,i]"
   ]
  },
  {
   "cell_type": "code",
   "execution_count": 8,
   "id": "333a3d75",
   "metadata": {},
   "outputs": [
    {
     "name": "stderr",
     "output_type": "stream",
     "text": [
      "D:\\Anaconda\\envs\\py36\\lib\\site-packages\\ipykernel_launcher.py:40: RuntimeWarning: overflow encountered in double_scalars\n"
     ]
    },
    {
     "name": "stdout",
     "output_type": "stream",
     "text": [
      "[0.9999999999940905, array([-2.23639972e-06,  7.99971682e-07,  3.20679129e-07,  4.06508346e-07]), 999]\n",
      "PSO运行时间: 0.00 s\n"
     ]
    }
   ],
   "source": [
    "start = time.time()\n",
    "c1,c2 = 2,2\n",
    "# length:迭代次数，N:种群规模\n",
    "length,N=1000,30\n",
    "w=0.9\n",
    "pBest = np.zeros((N,4))\n",
    "gBest = np.zeros(N)\n",
    "# PSO(length,N,w,c1,c2)\n",
    "end = time.time()\n",
    "print(PSO(length,N,w,c1,c2))\n",
    "print('PSO运行时间: %.2f s'%(end-start))"
   ]
  },
  {
   "cell_type": "code",
   "execution_count": null,
   "id": "0c0db10e",
   "metadata": {},
   "outputs": [],
   "source": []
  }
 ],
 "metadata": {
  "kernelspec": {
   "display_name": "Python [conda env:py36]",
   "language": "python",
   "name": "conda-env-py36-py"
  },
  "language_info": {
   "codemirror_mode": {
    "name": "ipython",
    "version": 3
   },
   "file_extension": ".py",
   "mimetype": "text/x-python",
   "name": "python",
   "nbconvert_exporter": "python",
   "pygments_lexer": "ipython3",
   "version": "3.6.13"
  }
 },
 "nbformat": 4,
 "nbformat_minor": 5
}
